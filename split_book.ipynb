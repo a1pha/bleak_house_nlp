{
 "cells": [
  {
   "cell_type": "code",
   "execution_count": 48,
   "metadata": {},
   "outputs": [
    {
     "data": {
      "text/plain": [
       "'\\ufeff'"
      ]
     },
     "execution_count": 48,
     "metadata": {},
     "output_type": "execute_result"
    }
   ],
   "source": [
    "import re\n",
    "from tqdm import tqdm\n",
    "\n",
    "#splits on \"Chapter \" + a sequence of numbers + a newline\n",
    "#re.IGNORECASE means it will split on \"CHAPTER\" or \"chapter\" or \"Chapter\" etc\n",
    "\n",
    "bleakhouse = open(\"../bleakhouse.txt\",\"r\") \n",
    "text = bleakhouse.read()\n",
    "split_text = re.split(\"Chapter [A-Z]+\\n\", text, flags=re.IGNORECASE)\n",
    "split_text.pop(0)"
   ]
  },
  {
   "cell_type": "code",
   "execution_count": 51,
   "metadata": {},
   "outputs": [
    {
     "name": "stderr",
     "output_type": "stream",
     "text": [
      "100%|██████████| 67/67 [00:00<00:00, 9276.37it/s]\n"
     ]
    }
   ],
   "source": [
    "for i in tqdm(range(len(split_text))):\n",
    "    title = split_text[i].split('\\n\\n')[0].strip('\\n')\n",
    "    file = open('../chapters/' + str(i+1) + ': ' + title + \".txt\", \"w\") \n",
    "    file.write(split_text[i]) \n",
    "    file.close() "
   ]
  },
  {
   "cell_type": "code",
   "execution_count": null,
   "metadata": {},
   "outputs": [],
   "source": []
  }
 ],
 "metadata": {
  "kernelspec": {
   "display_name": "eng390",
   "language": "python",
   "name": "eng390"
  },
  "language_info": {
   "codemirror_mode": {
    "name": "ipython",
    "version": 3
   },
   "file_extension": ".py",
   "mimetype": "text/x-python",
   "name": "python",
   "nbconvert_exporter": "python",
   "pygments_lexer": "ipython3",
   "version": "3.8.3"
  }
 },
 "nbformat": 4,
 "nbformat_minor": 4
}
